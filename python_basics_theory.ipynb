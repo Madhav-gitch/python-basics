{
  "nbformat": 4,
  "nbformat_minor": 0,
  "metadata": {
    "colab": {
      "provenance": []
    },
    "kernelspec": {
      "name": "python3",
      "display_name": "Python 3"
    },
    "language_info": {
      "name": "python"
    }
  },
  "cells": [
    {
      "cell_type": "markdown",
      "source": [
        "# Python Basics\n"
      ],
      "metadata": {
        "id": "cC2-SVXJ3UD8"
      }
    },
    {
      "cell_type": "markdown",
      "source": [
        "1. What is Python, and why is it popular ?\n",
        "  - Python is a high-level, interpreted programming language known for its     readability and simplicity.\n",
        "  - It's popular for several reasons:\n",
        "    Easy to Learn and Use,\n",
        "    Versatile,\n",
        "    Large and Active Community,\n",
        "    Extensive Libraries and Frameworks.\n",
        "\n",
        "2. What is an interpreter in Python ?\n",
        "   - An interpreter in Python is a program that reads and executes your code line by line. It translates each high-level instruction into an intermediate form and then immediately executes it. This is different from a compiler, which translates the entire program into machine code before execution.\n",
        "\n",
        "3.  What are pre-defined keywords in Python ?\n",
        "    - the pre-defined keywords means those have particular function defined to work so they according to thir function.\n",
        "    - There are so many pre-defined keywords in python those are\n",
        "    import, return, continue, copy, reverse, break, while, for, if, elif etc\n",
        "  \n",
        "4. Can keywords be used as variable names ?\n",
        "   - No, keywords cannot be used as  variable because they already defined their own function to work on that if we declare keywords as variable they will be an error.\n",
        "\n",
        "5. What is mutability in python ?\n",
        "   - The elements which are replaces with another element those are called mutability. Like in python list is mutable but tuple is not a mutable.\n",
        "\n",
        "6. Why are list mutable but tuple not nutable ?\n",
        "   - In list we can replace a char of string or replace whole string with another char or string respictively, But in tuple we can do the same operations like list we can insert a new element because the tuples are unordered list so that we cant change a value.\n",
        "\n",
        "7. What is difference btw '==' and 'is' operator in python ?\n",
        "   - '==' Comparition operator it is used to compare the values.\n",
        "   - 'is' identity ooperator it is used to check address of the same variable and value provide true or false.\n",
        "\n",
        "8. What are logical operator in python ?\n",
        "   - The logical operators in python are\n",
        "      Logical AND,\n",
        "      Logical OR,\n",
        "      Logical NOT.\n",
        "\n",
        "9. What is type casting in python ?\n",
        "   - In python input is bydefault it receive in string so we need to do type casting to get a value in required data type.\n",
        "\n",
        "10. What is the difference btw implicit and explicit type casting ?\n",
        "    - mplicit Type Casting (Coercion)\n",
        "    Definition: Implicit type casting is when the compiler or interpreter automatically converts one data type to another, without you explicitly specifying it in your code. This usually happens to make an operation valid or to avoid data loss.\n",
        "    Automatic: The programming language decides when and how to perform the conversion.\n",
        "    Less Control: You have less direct control over the conversion process.\n",
        "    Risk of Data Loss (Sometimes): In some cases, implicit conversion can lead to data loss (e.g., converting a float to an integer truncates the decimal portion).\n",
        "    - Explicit type casting\n",
        "    Definition: Explicit type casting is when you manually specify in your code that you want to convert a value from one data type to another.\n",
        "    Manual: You use a type conversion function or operator provided by the language.\n",
        "    More Control: You have full control over the conversion process.\n",
        "    Less Risk of Surprise: The conversion is intentional and explicitly stated in the code, making it easier to understand.\n",
        "    Potentially Reduced Data Loss (You Choose the Conversion): You know exactly what kind of conversion you are performing, which can help you avoid unintended data loss, or if data loss is unavoudable (like truncating a float), you have decided it is OK.\n",
        "\n",
        "11. What is the purpose of the conditional statements in the python ?\n",
        "    - The conditional statements verify the condition given the user to get terninate from the code so that a required work to doo.\n",
        "\n",
        "12. How does the elif statement works ?\n",
        "    - The elif statement work in a proper order like\n",
        "    firstly the condition is checks by \"if conditon\" if it not satisfy then go for \"elif conditon\" at last if any of them not satisfy the condition then it go with \"else\" block.\n",
        "\n",
        "13. What is difference btw for and while loop ?\n",
        "    -for Loop:\n",
        "\n",
        "    Iteration over a Sequence: The for loop is primarily designed to iterate over a sequence of items. This sequence can be a string, a list, a tuple, a dictionary (iterating over keys), a range of numbers, or any other iterable object.\n",
        "    Known Number of Iterations: Typically, you use a for loop when you know in advance how many times you want to execute the loop body (i.e., the number of items in the sequence).\n",
        "    Automatic Iteration: The loop automatically iterates to the next item in the sequence after each execution of the loop body. You don't need to manually increment a counter or manage the loop's progress.\n",
        "    Simplified Syntax: The syntax is generally more concise than a while loop when you are simply iterating over a sequence.\n",
        "\n",
        "    while Loop:\n",
        "\n",
        "    Condition-Based Iteration: The while loop continues to execute as long as a specific condition remains true.\n",
        "    Unknown Number of Iterations: while loops are well-suited to situations where you don't know in advance how many times the loop needs to run. The loop continues until the condition becomes false, which could depend on user input, external data, or calculations within the loop itself.\n",
        "    Manual Condition Management: You are responsible for managing the condition within the loop. This often involves updating variables or performing actions that will eventually cause the condition to become false and terminate the loop.\n",
        "    More Flexible: while loops are potentially more flexible than for loops because the condition can be arbitrarily complex and can depend on many factors.\n",
        "\n",
        "14. Discribe a scinario where while loop is more efficent then for loop ?\n",
        "    - Avoidance of Unnecessary Iterations: A for loop, by its nature, will typically iterate through the entire sequence unless you explicitly use a break statement. While you could use a break statement inside the for loop to achieve the same effect, the while loop's structure is inherently more aligned with the \"search until found\" logic."
      ],
      "metadata": {
        "id": "x7PeUQWI3phO"
      }
    }
  ]
}