{
  "nbformat": 4,
  "nbformat_minor": 0,
  "metadata": {
    "colab": {
      "provenance": []
    },
    "kernelspec": {
      "name": "python3",
      "display_name": "Python 3"
    },
    "language_info": {
      "name": "python"
    }
  },
  "cells": [
    {
      "cell_type": "markdown",
      "source": [
        "# Python Basics\n"
      ],
      "metadata": {
        "id": "cC2-SVXJ3UD8"
      }
    },
    {
      "cell_type": "code",
      "source": [
        "#  Write a Python program to print \"Hello, World!\n",
        "print(\"Hello, World!\")"
      ],
      "metadata": {
        "colab": {
          "base_uri": "https://localhost:8080/"
        },
        "id": "z9eum7WYWUGj",
        "outputId": "c618cbe8-d788-47c3-821a-ae73adc2e345"
      },
      "execution_count": null,
      "outputs": [
        {
          "output_type": "stream",
          "name": "stdout",
          "text": [
            "Hello, World!\n"
          ]
        }
      ]
    },
    {
      "cell_type": "code",
      "source": [
        "# Write a Python program that displays your name and age ?\n",
        "name =\"Madhav Nagalgidde\"\n",
        "age = 22\n",
        "print(\"Name :\",name)\n",
        "print(\"Age :\",age)\n"
      ],
      "metadata": {
        "colab": {
          "base_uri": "https://localhost:8080/"
        },
        "id": "j4mGQjiZWWig",
        "outputId": "70f79e39-9458-4339-c254-63097792eb12"
      },
      "execution_count": null,
      "outputs": [
        {
          "output_type": "stream",
          "name": "stdout",
          "text": [
            "Name : Madhav Nagalgidde\n",
            "Age : 22\n"
          ]
        }
      ]
    },
    {
      "cell_type": "code",
      "source": [
        "#  Write code to print all the pre-defined keywords in Python using the keyword library ?\n",
        "import keyword\n",
        "print(keyword.kwlist)"
      ],
      "metadata": {
        "colab": {
          "base_uri": "https://localhost:8080/"
        },
        "id": "ZVUQ3YcWWyAB",
        "outputId": "26d4057f-af73-4d36-c99e-cb08a0f75ba0"
      },
      "execution_count": null,
      "outputs": [
        {
          "output_type": "stream",
          "name": "stdout",
          "text": [
            "['False', 'None', 'True', 'and', 'as', 'assert', 'async', 'await', 'break', 'class', 'continue', 'def', 'del', 'elif', 'else', 'except', 'finally', 'for', 'from', 'global', 'if', 'import', 'in', 'is', 'lambda', 'nonlocal', 'not', 'or', 'pass', 'raise', 'return', 'try', 'while', 'with', 'yield']\n"
          ]
        }
      ]
    },
    {
      "cell_type": "code",
      "source": [],
      "metadata": {
        "colab": {
          "base_uri": "https://localhost:8080/"
        },
        "id": "eDXhpJYkYFeq",
        "outputId": "270e34e4-0c46-42a7-b4d0-b4fb4745b060"
      },
      "execution_count": null,
      "outputs": [
        {
          "output_type": "stream",
          "name": "stdout",
          "text": [
            "Enter a word: is\n",
            "'is' is a Python keyword.\n"
          ]
        }
      ]
    },
    {
      "cell_type": "code",
      "source": [
        "#  Create a list and tuple in Python, and demonstrate how attempting to change an element works differently for each.\n",
        "my_tuple = (\"madhav\",23,\"shailesh\",\"Nagalgidde\")\n",
        "print(type(my_tuple))\n",
        "my_list = [\"malegaon\", \"degloor\",\"karegaon\",\"Nanded\"]\n",
        "print(type(my_list))\n",
        "\n",
        "# Attempting to change an element in the tuple will raise a TypeError because tuples are immutable\n",
        "# my_tuple[0] = \"malegaon\"  # This line caused a TypeError and has been commented out\n",
        "\n",
        "# Changing an element in the list is allowed because lists are mutable\n",
        "my_list[0] = \"Madhav\"\n",
        "print(my_list)"
      ],
      "metadata": {
        "colab": {
          "base_uri": "https://localhost:8080/"
        },
        "id": "OIwyM1wgYgIl",
        "outputId": "12bb02c2-9f00-4f98-95e6-738e574ff14b"
      },
      "execution_count": null,
      "outputs": [
        {
          "output_type": "stream",
          "name": "stdout",
          "text": [
            "<class 'tuple'>\n",
            "<class 'list'>\n",
            "['Madhav', 'degloor', 'karegaon', 'Nanded']\n"
          ]
        }
      ]
    },
    {
      "cell_type": "code",
      "source": [
        "# Write a function to demonstrate the behavior of mutable and immutable arguments.\n",
        "\n",
        "def demonstrate_arguments(immutable_arg, mutable_arg):\n",
        "  \"\"\"\n",
        "  Demonstrates the behavior of mutable and immutable arguments in a function.\n",
        "\n",
        "  Args:\n",
        "    immutable_arg: An immutable object (e.g., integer, string, tuple).\n",
        "    mutable_arg: A mutable object (e.g., list, dictionary, set).\n",
        "  \"\"\"\n",
        "  print(\"Inside function before modification:\")\n",
        "  print(\"Immutable argument:\", immutable_arg)\n",
        "  print(\"Mutable argument:\", mutable_arg)\n",
        "\n",
        "  # Attempting to modify immutable argument (creates a new object)\n",
        "  immutable_arg = immutable_arg + 1\n",
        "  print(\"Immutable argument after modification inside function:\", immutable_arg)\n",
        "\n",
        "  # Modifying mutable argument (modifies the original object)\n",
        "  mutable_arg.append(\"modified\")\n",
        "  print(\"Mutable argument after modification inside function:\", mutable_arg)\n",
        "\n",
        "# Demonstrate with an immutable and mutable object\n",
        "x = 10\n",
        "y = [1, 2, 3]\n",
        "\n",
        "print(\"Outside function before calling:\")\n",
        "print(\"x (immutable):\", x)\n",
        "print(\"y (mutable):\", y)\n",
        "\n",
        "demonstrate_arguments(x, y)\n",
        "\n",
        "print(\"Outside function after calling:\")\n",
        "print(\"x (immutable):\", x)\n",
        "print(\"y (mutable):\", y)"
      ],
      "metadata": {
        "colab": {
          "base_uri": "https://localhost:8080/"
        },
        "id": "n3tJWseFZLg2",
        "outputId": "a4854c58-261f-4ccc-cf26-a3dfa6a47c01"
      },
      "execution_count": null,
      "outputs": [
        {
          "output_type": "stream",
          "name": "stdout",
          "text": [
            "Outside function before calling:\n",
            "x (immutable): 10\n",
            "y (mutable): [1, 2, 3]\n",
            "Inside function before modification:\n",
            "Immutable argument: 10\n",
            "Mutable argument: [1, 2, 3]\n",
            "Immutable argument after modification inside function: 11\n",
            "Mutable argument after modification inside function: [1, 2, 3, 'modified']\n",
            "Outside function after calling:\n",
            "x (immutable): 10\n",
            "y (mutable): [1, 2, 3, 'modified']\n"
          ]
        }
      ]
    },
    {
      "cell_type": "code",
      "source": [
        "# Write a program that performs basic arithmetic operations on two user-input numbers.?\n",
        "x = int(input(\"Enter the first number :\"))\n",
        "y = int(input(\"Enter the second number :\"))\n",
        "\n",
        "# Arthematic operations\n",
        "print(\"ARTHEMAIC OPERATION\")\n",
        "print(\"Additon :\",x + y)\n",
        "print(\"multiplication :\",x*y)\n",
        "print(\"division :\",x/y)\n",
        "print(\"footer division :\",x//y)\n",
        "print(\"modulos :\",x%y)\n",
        "\n"
      ],
      "metadata": {
        "colab": {
          "base_uri": "https://localhost:8080/"
        },
        "id": "JhRzQ4NTeV8S",
        "outputId": "ecada2b7-0232-4dce-fdb2-3728e1c60a9d"
      },
      "execution_count": null,
      "outputs": [
        {
          "output_type": "stream",
          "name": "stdout",
          "text": [
            "Enter the first number :15\n",
            "Enter the second number :3\n",
            "ARTHEMAIC OPERATION\n",
            "Additon : 18\n",
            "multiplication : 45\n",
            "division : 5.0\n",
            "footer division : 5\n",
            "modulos : 0\n"
          ]
        }
      ]
    },
    {
      "cell_type": "code",
      "source": [
        "# Write a program to demonstrate the use of logical operators. ?\n",
        "\n",
        "# Define some boolean variables\n",
        "is_python_fun = True\n",
        "is_coding_easy = False\n",
        "has_learned_logical_operators = True\n",
        "\n",
        "# Demonstrate the 'and' operator\n",
        "print(\"Using 'and' operator:\")\n",
        "print(\"Is Python fun AND is coding easy?\", is_python_fun and is_coding_easy)\n",
        "print(\"Is Python fun AND has learned logical operators?\", is_python_fun and has_learned_logical_operators)\n",
        "\n",
        "# Demonstrate the 'or' operator\n",
        "print(\"\\nUsing 'or' operator:\")\n",
        "print(\"Is Python fun OR is coding easy?\", is_python_fun or is_coding_easy)\n",
        "print(\"Is coding easy OR has learned logical operators?\", is_coding_easy or has_learned_logical_operators)\n",
        "\n",
        "# Demonstrate the 'not' operator\n",
        "print(\"\\nUsing 'not' operator:\")\n",
        "print(\"NOT is Python fun:\", not is_python_fun)\n",
        "print(\"NOT is coding easy:\", not is_coding_easy)\n",
        "\n",
        "# You can also use logical operators with expressions\n",
        "x = 10\n",
        "y = 5\n",
        "print(\"\\nUsing logical operators with expressions:\")\n",
        "print(\"(x > 5) and (y < 10):\", (x > 5) and (y < 10))\n",
        "print(\"(x < 5) or (y < 10):\", (x < 5) or (y < 10))\n",
        "print(\"not (x > y):\", not (x > y))"
      ],
      "metadata": {
        "colab": {
          "base_uri": "https://localhost:8080/"
        },
        "id": "d3-v_T1QfyAx",
        "outputId": "876f1c47-1430-4d7c-f13c-f243d030ce30"
      },
      "execution_count": null,
      "outputs": [
        {
          "output_type": "stream",
          "name": "stdout",
          "text": [
            "Using 'and' operator:\n",
            "Is Python fun AND is coding easy? False\n",
            "Is Python fun AND has learned logical operators? True\n",
            "\n",
            "Using 'or' operator:\n",
            "Is Python fun OR is coding easy? True\n",
            "Is coding easy OR has learned logical operators? True\n",
            "\n",
            "Using 'not' operator:\n",
            "NOT is Python fun: False\n",
            "NOT is coding easy: True\n",
            "\n",
            "Using logical operators with expressions:\n",
            "(x > 5) and (y < 10): True\n",
            "(x < 5) or (y < 10): True\n",
            "not (x > y): False\n"
          ]
        }
      ]
    },
    {
      "cell_type": "code",
      "source": [
        "# Write a Python program to convert user input from string to integer, float, and boolean types ?\n",
        "str_int= input(\"Enter the number:\")\n",
        "print(\"str_int :\",type(str_int))\n",
        "print(str_int)\n",
        "str_float = input(\"Enter the float :\")\n",
        "print(\"str_float :\",type(str_float))\n",
        "str_boolean = input(\"Enter the boolean :\")\n",
        "print(\"str_boolean :\",type(str_boolean))\n",
        "\n",
        "\n",
        "print(\"After the type casting\")\n",
        "str_int = int(str_int)\n",
        "print(\"str_int :\",type(str_int))\n",
        "print(str_int)\n",
        "str_float = float(str_float)\n",
        "print(\"str_float :\",type(str_float))\n",
        "str_boolean = bool(str_boolean)\n",
        "print(\"str_boolean :\",type(str_boolean))\n",
        "print(str_boolean)"
      ],
      "metadata": {
        "colab": {
          "base_uri": "https://localhost:8080/"
        },
        "id": "MMy8mQy6hzB6",
        "outputId": "4d491111-51aa-4870-b1d2-a7efff28a978"
      },
      "execution_count": null,
      "outputs": [
        {
          "output_type": "stream",
          "name": "stdout",
          "text": [
            "Enter the number:234\n",
            "str_int : <class 'str'>\n",
            "234\n",
            "Enter the float :342.3\n",
            "str_float : <class 'str'>\n",
            "Enter the boolean :1\n",
            "str_boolean : <class 'str'>\n",
            "After the type casting\n",
            "str_int : <class 'int'>\n",
            "234\n",
            "str_float : <class 'float'>\n",
            "str_boolean : <class 'bool'>\n",
            "True\n"
          ]
        }
      ]
    },
    {
      "cell_type": "code",
      "metadata": {
        "colab": {
          "base_uri": "https://localhost:8080/"
        },
        "id": "ac024cca",
        "outputId": "f5bf4d95-145e-47fe-911c-d6a299668f05"
      },
      "source": [
        "# Write code to demonstrate type casting with list elements\n",
        "\n",
        "# Create a list with elements of different types (as strings for demonstration)\n",
        "string_list = [\"1\", \"2\", \"3\", \"4.5\", \"5\"]\n",
        "print(\"Original list:\", string_list)\n",
        "print(\"Types of elements in original list:\")\n",
        "for item in string_list:\n",
        "  print(f\"- {item}: {type(item)}\")\n",
        "\n",
        "# Type cast elements to integers (will cause an error for \"4.5\")\n",
        "# int_list = [int(item) for item in string_list] # This would raise a ValueError\n",
        "\n",
        "# Type cast elements to floats\n",
        "float_list = [float(item) for item in string_list]\n",
        "print(\"\\nList after type casting to float:\", float_list)\n",
        "print(\"Types of elements in float list:\")\n",
        "for item in float_list:\n",
        "  print(f\"- {item}: {type(item)}\")\n",
        "\n",
        "# Example of type casting a list of integers to strings\n",
        "int_list = [10, 20, 30, 40]\n",
        "print(\"\\nOriginal integer list:\", int_list)\n",
        "string_from_int_list = [str(item) for item in int_list]\n",
        "print(\"List after type casting integers to strings:\", string_from_int_list)\n",
        "print(\"Types of elements in string_from_int_list:\")\n",
        "for item in string_from_int_list:\n",
        "  print(f\"- {item}: {type(item)}\")"
      ],
      "execution_count": null,
      "outputs": [
        {
          "output_type": "stream",
          "name": "stdout",
          "text": [
            "Original list: ['1', '2', '3', '4.5', '5']\n",
            "Types of elements in original list:\n",
            "- 1: <class 'str'>\n",
            "- 2: <class 'str'>\n",
            "- 3: <class 'str'>\n",
            "- 4.5: <class 'str'>\n",
            "- 5: <class 'str'>\n",
            "\n",
            "List after type casting to float: [1.0, 2.0, 3.0, 4.5, 5.0]\n",
            "Types of elements in float list:\n",
            "- 1.0: <class 'float'>\n",
            "- 2.0: <class 'float'>\n",
            "- 3.0: <class 'float'>\n",
            "- 4.5: <class 'float'>\n",
            "- 5.0: <class 'float'>\n",
            "\n",
            "Original integer list: [10, 20, 30, 40]\n",
            "List after type casting integers to strings: ['10', '20', '30', '40']\n",
            "Types of elements in string_from_int_list:\n",
            "- 10: <class 'str'>\n",
            "- 20: <class 'str'>\n",
            "- 30: <class 'str'>\n",
            "- 40: <class 'str'>\n"
          ]
        }
      ]
    },
    {
      "cell_type": "code",
      "source": [
        "# Write a program that checks if a number is positive, negative, or zero\n",
        "\n",
        "number = float(input(\"Enter a number: \"))\n",
        "\n",
        "if number > 0:\n",
        "  print(\"The number is positive.\")\n",
        "elif number < 0:\n",
        "  print(\"The number is negative.\")\n",
        "else:\n",
        "  print(\"The number is zero.\")"
      ],
      "metadata": {
        "colab": {
          "base_uri": "https://localhost:8080/"
        },
        "id": "izSTm8akxTjd",
        "outputId": "8e371c3e-5e17-4486-aebd-e16d88d3ded6"
      },
      "execution_count": 1,
      "outputs": [
        {
          "output_type": "stream",
          "name": "stdout",
          "text": [
            "Enter a number: 24\n",
            "The number is positive.\n"
          ]
        }
      ]
    },
    {
      "cell_type": "code",
      "source": [
        "# . Write a for loop to print numbers from 1 to 10. ?\n",
        "for i in range(1,11,1):\n",
        "  print(i)\n"
      ],
      "metadata": {
        "colab": {
          "base_uri": "https://localhost:8080/"
        },
        "id": "BB_IyzI7xdIt",
        "outputId": "44130f0e-8bfb-4991-89c9-69dc888aa5e1"
      },
      "execution_count": 11,
      "outputs": [
        {
          "output_type": "stream",
          "name": "stdout",
          "text": [
            "1\n",
            "2\n",
            "3\n",
            "4\n",
            "5\n",
            "6\n",
            "7\n",
            "8\n",
            "9\n",
            "10\n"
          ]
        }
      ]
    },
    {
      "cell_type": "code",
      "source": [
        "#  Write a Python program to find the sum of all even numbers between 1 and 50. ?\n",
        "sum = 0\n",
        "for i in range(2,51,2):\n",
        "  sum+=i\n",
        "print(f\"{sum} is the sum of 1 to 50 even numbers\")\n"
      ],
      "metadata": {
        "colab": {
          "base_uri": "https://localhost:8080/"
        },
        "id": "z1ztbf7_xjrH",
        "outputId": "052db9f9-9392-4760-9d22-a0890da39ff4"
      },
      "execution_count": 15,
      "outputs": [
        {
          "output_type": "stream",
          "name": "stdout",
          "text": [
            "650 is the sum of 1 to 50 even numbers\n"
          ]
        }
      ]
    },
    {
      "cell_type": "code",
      "source": [
        "# write a program to reverse a string using a while loop.\n",
        "str = input(\"Enter the string :\")\n",
        "if(str == \"\"):\n",
        "  print(\"String is empty\")\n",
        "else:\n",
        "  n = len(str)-1\n",
        "  while(n>=0):\n",
        "    print(str[n],end=\"\")\n",
        "    n-=1\n"
      ],
      "metadata": {
        "colab": {
          "base_uri": "https://localhost:8080/"
        },
        "id": "IQBRqn_8ygTs",
        "outputId": "ebf59ffc-2d36-4149-98bf-60ceb7d24753"
      },
      "execution_count": 22,
      "outputs": [
        {
          "output_type": "stream",
          "name": "stdout",
          "text": [
            "Enter the string :Madhav\n",
            "vahdaM"
          ]
        }
      ]
    },
    {
      "cell_type": "code",
      "source": [
        "# Write a Python program to calculate the factorial of a number provided by the user using a while loop.\n",
        "n = int(input(\"enter the number :\"))\n",
        "if(n == \"\"):\n",
        "  print(\"n is empty\")\n",
        "else:\n",
        "  ans =1\n",
        "  while(n > 1):\n",
        "    ans *= n\n",
        "    n-=1\n",
        "  print(ans)\n"
      ],
      "metadata": {
        "colab": {
          "base_uri": "https://localhost:8080/"
        },
        "id": "sfzTt_5-zasE",
        "outputId": "39deacb1-cdf0-43b7-fe33-8e24fe3e2731"
      },
      "execution_count": 25,
      "outputs": [
        {
          "output_type": "stream",
          "name": "stdout",
          "text": [
            "enter the number :5\n",
            "120\n"
          ]
        }
      ]
    },
    {
      "cell_type": "code",
      "source": [],
      "metadata": {
        "id": "uASohNOC4r34"
      },
      "execution_count": null,
      "outputs": []
    }
  ]
}